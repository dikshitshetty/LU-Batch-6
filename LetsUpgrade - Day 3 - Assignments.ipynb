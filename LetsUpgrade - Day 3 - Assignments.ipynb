{
 "cells": [
  {
   "cell_type": "markdown",
   "metadata": {},
   "source": [
    "# Batch 6 - Day 3 - Assignments\n",
    "\n",
    "\n",
    "## Assignments 1\n",
    "\n",
    "1. Sum of n numbers with the help of while loop"
   ]
  },
  {
   "cell_type": "code",
   "execution_count": 24,
   "metadata": {},
   "outputs": [
    {
     "name": "stdout",
     "output_type": "stream",
     "text": [
      "Enter a number less than 200:180\n",
      "New Sum1 value is 181\n",
      "New Sum1 value is 182\n",
      "New Sum1 value is 183\n",
      "New Sum1 value is 184\n",
      "New Sum1 value is 185\n",
      "New Sum1 value is 186\n",
      "New Sum1 value is 187\n",
      "New Sum1 value is 188\n",
      "New Sum1 value is 189\n",
      "New Sum1 value is 190\n",
      "New Sum1 value is 191\n",
      "New Sum1 value is 192\n",
      "New Sum1 value is 193\n",
      "New Sum1 value is 194\n",
      "New Sum1 value is 195\n",
      "New Sum1 value is 196\n",
      "New Sum1 value is 197\n",
      "New Sum1 value is 198\n",
      "New Sum1 value is 199\n",
      "New Sum1 value is 200\n",
      "New Sum1 value is 201\n"
     ]
    }
   ],
   "source": [
    "sum1 = int(input(\"Enter a number less than 200:\"))\n",
    "while sum1<=200:\n",
    "    sum1=sum1+1\n",
    "    print(\"New Sum1 value is\",sum1)\n",
    "    if sum1>200:\n",
    "            break"
   ]
  },
  {
   "cell_type": "markdown",
   "metadata": {},
   "source": [
    "## Assignment 2\n",
    "+ Take a integer and find if it is prime or not"
   ]
  },
  {
   "cell_type": "code",
   "execution_count": 9,
   "metadata": {},
   "outputs": [
    {
     "name": "stdout",
     "output_type": "stream",
     "text": [
      "Enter a number: 1\n",
      "Numbers 1 & 0 are not prime numbers\n"
     ]
    }
   ],
   "source": [
    "sum2 = int(input(\"Enter a number: \"))\n",
    "if sum2<=1:\n",
    "    print(\"Numbers 1 & 0 are not prime numbers\")\n",
    "else:\n",
    "    for num1 in range(2,sum2):\n",
    "        if (sum2%num1)==0:\n",
    "            print(f\"Your number {sum2} is not prime number\")\n",
    "            break\n",
    "    else: #If this is a part of If loop, the print statement will be printed multiple times\n",
    "        print(f\"Your number {sum2} is prime number\")\n",
    "\n",
    "\n"
   ]
  },
  {
   "cell_type": "code",
   "execution_count": null,
   "metadata": {},
   "outputs": [],
   "source": []
  },
  {
   "cell_type": "code",
   "execution_count": null,
   "metadata": {},
   "outputs": [],
   "source": []
  }
 ],
 "metadata": {
  "kernelspec": {
   "display_name": "Python 3",
   "language": "python",
   "name": "python3"
  },
  "language_info": {
   "codemirror_mode": {
    "name": "ipython",
    "version": 3
   },
   "file_extension": ".py",
   "mimetype": "text/x-python",
   "name": "python",
   "nbconvert_exporter": "python",
   "pygments_lexer": "ipython3",
   "version": "3.7.1"
  }
 },
 "nbformat": 4,
 "nbformat_minor": 2
}
