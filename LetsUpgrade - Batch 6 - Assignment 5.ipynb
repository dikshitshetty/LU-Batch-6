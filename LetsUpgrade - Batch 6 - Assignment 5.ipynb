{
 "cells": [
  {
   "cell_type": "markdown",
   "metadata": {},
   "source": [
    "## Assignment\n",
    "\n",
    "### Assignment 1\n",
    "[0,1,10,4,1,0,56,2,0,1,3,0,56,0,4] +Sort increasing order but all zeros should be at right hand side "
   ]
  },
  {
   "cell_type": "code",
   "execution_count": 6,
   "metadata": {},
   "outputs": [
    {
     "name": "stdout",
     "output_type": "stream",
     "text": [
      "Intial List is:  [0, 1, 10, 4, 1, 0, 56, 2, 0, 1, 3, 0, 56, 0, 4]\n",
      "List after sorting is [0, 0, 0, 0, 0, 1, 1, 1, 2, 3, 4, 4, 10, 56, 56]\n",
      "Requirement as per the assignment is:  [1, 1, 2, 3, 4, 4, 10, 56, 56, 0, 0, 0, 0, 0, 0]\n"
     ]
    }
   ],
   "source": [
    "l1 = [0,1,10,4,1,0,56,2,0,1,3,0,56,0,4]\n",
    "print(\"Intial List is: \",l1)\n",
    "l1.sort()\n",
    "print(\"List after sorting is\",l1)\n",
    "for each in l1:\n",
    "    if each==0:\n",
    "        l1.pop(each)\n",
    "        l1.append(each)\n",
    "print(\"Requirement as per the assignment is: \",l1)"
   ]
  },
  {
   "cell_type": "markdown",
   "metadata": {},
   "source": [
    "### Assignment 2:\n",
    "\n",
    "list 1 = [10,20,40,60,70,80] sorted list\n",
    "list 2 = [5,15,25,35,45,60] sorted list\n",
    "\n",
    "Merge these 2 sorted list & produce one sorted list, but use only one loop i.e. use for or while any one but once. +cannot use sort method. you have to merge thse list in such a way that the final list must be sorted."
   ]
  },
  {
   "cell_type": "code",
   "execution_count": 47,
   "metadata": {},
   "outputs": [
    {
     "name": "stdout",
     "output_type": "stream",
     "text": [
      "[5, 10, 15, 20, 25, 35, 40, 45, 60, 65, 70, 80]\n"
     ]
    }
   ],
   "source": [
    "list1 = [10,20,40,60,70,80]\n",
    "list2 = [5,15,25,35,45,65]\n",
    "list3 = list1 + list2\n",
    "list4=[]\n",
    "for each in range(min(list3),max(list3)+1):\n",
    "    if each in list3:\n",
    "        list4.append(each)\n",
    "print(list4)"
   ]
  },
  {
   "cell_type": "code",
   "execution_count": null,
   "metadata": {},
   "outputs": [],
   "source": []
  }
 ],
 "metadata": {
  "kernelspec": {
   "display_name": "Python 3",
   "language": "python",
   "name": "python3"
  },
  "language_info": {
   "codemirror_mode": {
    "name": "ipython",
    "version": 3
   },
   "file_extension": ".py",
   "mimetype": "text/x-python",
   "name": "python",
   "nbconvert_exporter": "python",
   "pygments_lexer": "ipython3",
   "version": "3.7.1"
  }
 },
 "nbformat": 4,
 "nbformat_minor": 2
}
