{
 "cells": [
  {
   "cell_type": "markdown",
   "metadata": {},
   "source": [
    "# Basic Syntaxs"
   ]
  },
  {
   "cell_type": "markdown",
   "metadata": {},
   "source": [
    "## Backslash"
   ]
  },
  {
   "cell_type": "code",
   "execution_count": 8,
   "metadata": {},
   "outputs": [
    {
     "name": "stdout",
     "output_type": "stream",
     "text": [
      "Hello Python\n"
     ]
    }
   ],
   "source": [
    "print (\"Hello \\\n",
    "Python\") \n",
    "#Usually pressing an enter would not run it hence to indicate continuation in the next line you also include \"\\\" to continue in next line "
   ]
  },
  {
   "cell_type": "markdown",
   "metadata": {},
   "source": [
    "## Triple Quotes"
   ]
  },
  {
   "cell_type": "code",
   "execution_count": 10,
   "metadata": {},
   "outputs": [
    {
     "name": "stdout",
     "output_type": "stream",
     "text": [
      "  ****<3 :) mkmck \n",
      "ldmmkdkmd\n",
      "dmffm\n",
      "fknfkf\n",
      "fknfkfnkf \n"
     ]
    }
   ],
   "source": [
    "print(\"\"\"  ****<3 :) mkmck \n",
    "ldmmkdkmd\n",
    "dmffm\n",
    "fknfkf\n",
    "fknfkfnkf \"\"\")\n",
    "#If you don't use any tripple quotes then, everything would be in a single line. It is used to write Doc string. To Maintain documentation. You can include SMS mags with special msgs as it is..& it will retain its shape/formating"
   ]
  },
  {
   "cell_type": "markdown",
   "metadata": {},
   "source": [
    "## String inside a quote\n",
    "\n",
    "single quote normally prints the statement. But if you want to use it within the the print command. then it will give an error.\n",
    "Therefore use double quotes within the print. Especially when you want to use single quote in the sentence you print."
   ]
  },
  {
   "cell_type": "code",
   "execution_count": 11,
   "metadata": {},
   "outputs": [
    {
     "name": "stdout",
     "output_type": "stream",
     "text": [
      "hello\n"
     ]
    }
   ],
   "source": [
    "print('hello')"
   ]
  },
  {
   "cell_type": "code",
   "execution_count": 12,
   "metadata": {},
   "outputs": [
    {
     "ename": "SyntaxError",
     "evalue": "invalid syntax (<ipython-input-12-3f3d487a621e>, line 1)",
     "output_type": "error",
     "traceback": [
      "\u001b[1;36m  File \u001b[1;32m\"<ipython-input-12-3f3d487a621e>\"\u001b[1;36m, line \u001b[1;32m1\u001b[0m\n\u001b[1;33m    print('python's world')\u001b[0m\n\u001b[1;37m                  ^\u001b[0m\n\u001b[1;31mSyntaxError\u001b[0m\u001b[1;31m:\u001b[0m invalid syntax\n"
     ]
    }
   ],
   "source": [
    "print('python's world')"
   ]
  },
  {
   "cell_type": "code",
   "execution_count": 13,
   "metadata": {},
   "outputs": [
    {
     "name": "stdout",
     "output_type": "stream",
     "text": [
      "python's world\n"
     ]
    }
   ],
   "source": [
    "print(\"python's world\")"
   ]
  },
  {
   "cell_type": "markdown",
   "metadata": {},
   "source": [
    "## Escape Sequence\n",
    "using \"\\\" - for multiple things\n",
    "\n",
    "\\t - Tab(space)\n",
    "\\n - next line (line seperator) or same as enter\n",
    "\\ - i can use this to place statement within single quote & use apostrophe which wasn't possible previously. "
   ]
  },
  {
   "cell_type": "code",
   "execution_count": 15,
   "metadata": {},
   "outputs": [
    {
     "name": "stdout",
     "output_type": "stream",
     "text": [
      "hello\tworld\n",
      "hello\n",
      "world\n",
      "hello's world\n"
     ]
    }
   ],
   "source": [
    "print (\"hello\\tworld\")\n",
    "print (\"hello\\nworld\")\n",
    "print ('hello\\'s world')"
   ]
  },
  {
   "cell_type": "markdown",
   "metadata": {},
   "source": [
    "## Formatted Output\n",
    "\n",
    "Run multiple things, using formated output\n",
    "\n",
    "%s - String\n",
    "%f - Float\n",
    "%d - integer\n",
    "\n",
    "same is used in SQL qeries,  e.g.  Seect * fom table name (table name is %)"
   ]
  },
  {
   "cell_type": "code",
   "execution_count": 20,
   "metadata": {},
   "outputs": [
    {
     "name": "stdout",
     "output_type": "stream",
     "text": [
      "The name of the person is xyz mark is 90.748 age is 20\n"
     ]
    }
   ],
   "source": [
    "name = \"xyz\"\n",
    "marks = 90.748\n",
    "age = 20\n",
    "print(\"The name of the person is\", name , \"mark is\", marks, \"age is\", age)"
   ]
  },
  {
   "cell_type": "code",
   "execution_count": 21,
   "metadata": {},
   "outputs": [
    {
     "name": "stdout",
     "output_type": "stream",
     "text": [
      "The name of the person is xyz marks is 90.748000 age is 20\n"
     ]
    }
   ],
   "source": [
    "#better way to code above one, with formatted output \n",
    "print(\"The name of the person is %s marks is %f age is %d\"%(name,marks,age))"
   ]
  },
  {
   "cell_type": "code",
   "execution_count": 25,
   "metadata": {},
   "outputs": [
    {
     "name": "stdout",
     "output_type": "stream",
     "text": [
      "The name of the person is xyz marks is  90.748000 age is         20\n"
     ]
    }
   ],
   "source": [
    "#add 10 in between to add spaces. 10 will give 10spces. If you include %3 it ll give 3 spaces\n",
    "print(\"The name of the person is %3s marks is %10f age is %10d\"%(name,marks,age))"
   ]
  },
  {
   "cell_type": "code",
   "execution_count": 24,
   "metadata": {},
   "outputs": [
    {
     "name": "stdout",
     "output_type": "stream",
     "text": [
      "The name of the person is        xyz marks is 90.7 age is         20\n"
     ]
    }
   ],
   "source": [
    "#add .2 to make it 2 decimal places. simiarly .1 for 1 decimal places.\n",
    "print(\"The name of the person is %10s marks is %.1f age is %10d\"%(name,marks,age))"
   ]
  },
  {
   "cell_type": "code",
   "execution_count": 27,
   "metadata": {},
   "outputs": [
    {
     "name": "stdout",
     "output_type": "stream",
     "text": [
      "The name of the person is xyz marks is 90.748 age is 20\n"
     ]
    }
   ],
   "source": [
    "#python 3.4 has introduced the f string. use f and {}\n",
    "print (f\"The name of the person is {name} marks is {marks} age is {age}\")"
   ]
  },
  {
   "cell_type": "markdown",
   "metadata": {},
   "source": [
    "# Python Variables\n",
    "\n",
    "Variable means linking of data to name \n",
    "according to data-type the interpretor reserves the memory space\n",
    "\n",
    "E.g. when you say a=10. It will store 10 in the memory space of size 1byte (with some address 1234 (e.g.))Every byte has a address. a is a symbolic representation of that address. i.e. the variable refer to a memory location.\n",
    "a denoting object.(integer, float, tuples, list are all object). a is a variable denoting integer object\n",
    "Equal to sign is linking. Equal to signis a assignment operator.\n",
    "\n",
    "if you say b=10. interpretor will point to the data in the memory, where 10 is store"
   ]
  },
  {
   "cell_type": "markdown",
   "metadata": {},
   "source": [
    "## Rules for Variable\n",
    "\n",
    "*Cannot use keywords as variables. i.e. Reeserved keyword in Python*\n",
    "if = 10 not ok. if1 = 10 is ok\n",
    "\n",
    "*Python variable can contain letters(upper case lowercase), numbers , underscore*\n",
    "*variable cannot start with number*\n",
    "A=10 & a=10 are different\n",
    "10a=20 not ok, a10=20 is ok\n",
    "_=20 is ok. but dont use. it signfies nothing\n",
    "_10=20 is also ok.. But again dont use.\n",
    "\n",
    "**always use meaningful name e.g. latitude, longitude especially in companies.\n",
    "\n",
    "can also use\n",
    "\n",
    "x=y=10\n",
    "\n",
    "** if you want to see the address of the ram.\n",
    "id() function\n",
    "\n"
   ]
  },
  {
   "cell_type": "code",
   "execution_count": 29,
   "metadata": {},
   "outputs": [
    {
     "data": {
      "text/plain": [
       "140723887387760"
      ]
     },
     "execution_count": 29,
     "metadata": {},
     "output_type": "execute_result"
    }
   ],
   "source": [
    "a=10\n",
    "id(a) #gives the ram address"
   ]
  },
  {
   "cell_type": "code",
   "execution_count": 30,
   "metadata": {},
   "outputs": [
    {
     "data": {
      "text/plain": [
       "140723887387760"
      ]
     },
     "execution_count": 30,
     "metadata": {},
     "output_type": "execute_result"
    }
   ],
   "source": [
    "b=10\n",
    "id(b) #notice both a & b has the same memory space . Both are pointing to the same memory object."
   ]
  },
  {
   "cell_type": "code",
   "execution_count": 31,
   "metadata": {},
   "outputs": [],
   "source": [
    "del (a)"
   ]
  },
  {
   "cell_type": "code",
   "execution_count": 32,
   "metadata": {},
   "outputs": [
    {
     "ename": "NameError",
     "evalue": "name 'a' is not defined",
     "output_type": "error",
     "traceback": [
      "\u001b[1;31m---------------------------------------------------------------------------\u001b[0m",
      "\u001b[1;31mNameError\u001b[0m                                 Traceback (most recent call last)",
      "\u001b[1;32m<ipython-input-32-c390db2718d1>\u001b[0m in \u001b[0;36m<module>\u001b[1;34m\u001b[0m\n\u001b[1;32m----> 1\u001b[1;33m \u001b[0mid\u001b[0m\u001b[1;33m(\u001b[0m\u001b[0ma\u001b[0m\u001b[1;33m)\u001b[0m\u001b[1;33m\u001b[0m\u001b[1;33m\u001b[0m\u001b[0m\n\u001b[0m",
      "\u001b[1;31mNameError\u001b[0m: name 'a' is not defined"
     ]
    }
   ],
   "source": [
    "id(a)"
   ]
  },
  {
   "cell_type": "code",
   "execution_count": 34,
   "metadata": {},
   "outputs": [
    {
     "data": {
      "text/plain": [
       "140723887387760"
      ]
     },
     "execution_count": 34,
     "metadata": {},
     "output_type": "execute_result"
    }
   ],
   "source": [
    "id(b) #now a no more points to the memory, but b still does"
   ]
  },
  {
   "cell_type": "markdown",
   "metadata": {},
   "source": [
    "## Python Operator\n",
    "\n",
    "\n",
    "### Arithmetic Operator\n",
    "\n",
    "\"**\" - Raised to (power). normally ^ is used in excel.\n",
    "\"*\" - Multipication\n",
    "\"/\" - Division\n",
    "\"%\" - Modulo - Always gives you remainder\n",
    "\"+\" - Addition\n",
    "\"-\" - Subtraction\n",
    "\"//\" - Floor Division. Give the lower value in a float. e.g 3.3 -  is the lower value & 4 is higher value. 5.687890  - 5 is lower value & 6 is higher value\n",
    "\n",
    "in Python 3 - int/int int divide by gives you a float. in Python 2 that is not the case."
   ]
  },
  {
   "cell_type": "code",
   "execution_count": 35,
   "metadata": {},
   "outputs": [
    {
     "data": {
      "text/plain": [
       "5.0"
      ]
     },
     "execution_count": 35,
     "metadata": {},
     "output_type": "execute_result"
    }
   ],
   "source": [
    "10/2 #int/int"
   ]
  },
  {
   "cell_type": "code",
   "execution_count": 36,
   "metadata": {},
   "outputs": [
    {
     "data": {
      "text/plain": [
       "-10"
      ]
     },
     "execution_count": 36,
     "metadata": {},
     "output_type": "execute_result"
    }
   ],
   "source": [
    "10-20"
   ]
  },
  {
   "cell_type": "code",
   "execution_count": 37,
   "metadata": {},
   "outputs": [
    {
     "data": {
      "text/plain": [
       "1"
      ]
     },
     "execution_count": 37,
     "metadata": {},
     "output_type": "execute_result"
    }
   ],
   "source": [
    "10%3"
   ]
  },
  {
   "cell_type": "code",
   "execution_count": 38,
   "metadata": {},
   "outputs": [
    {
     "data": {
      "text/plain": [
       "3"
      ]
     },
     "execution_count": 38,
     "metadata": {},
     "output_type": "execute_result"
    }
   ],
   "source": [
    "10//3"
   ]
  },
  {
   "cell_type": "markdown",
   "metadata": {},
   "source": [
    "### Comparison Operators\n",
    "\n",
    "Always returns the value in boolean form. i.e True (1) & false (0)\n",
    "\n",
    "\"==\" - Equal to\n",
    "\"<\" - Less tha\n",
    "\">\" - Greater than\n",
    "\">=\" - Greater than equal to\n",
    "\"<=\" - Less than equal to\n",
    "\"!=\" - not equal to\n"
   ]
  },
  {
   "cell_type": "code",
   "execution_count": 41,
   "metadata": {},
   "outputs": [
    {
     "name": "stdout",
     "output_type": "stream",
     "text": [
      "True\n",
      "True\n",
      "True\n",
      "True\n",
      "False\n"
     ]
    }
   ],
   "source": [
    "c=10\n",
    "e=5\n",
    "f=20\n",
    "h=10\n",
    "print(c==h)\n",
    "print(e==5)\n",
    "print(c<f)\n",
    "print(f>=h)\n",
    "print(c!=h)"
   ]
  },
  {
   "cell_type": "markdown",
   "metadata": {},
   "source": [
    "### Assignment operators\n",
    "\n",
    "=  - a=10, value 10 is assigned to a (normally this only used. ones given below is also used.\n",
    "+=  - a+=10, 10 is added to the current value of a is is assigned to it \n",
    "-= - a-=10, 10 is Subtracted to the current value of a is is assigned to it \n",
    "*= - a*=10, 10 is Multiplied to the current value of a is is assigned to it \n",
    "/= - a/=10, 10 is Divided to the current value of a is is assigned to it \n",
    "**= - a**=10, 10 is raised to the current value of a is is assigned to it "
   ]
  },
  {
   "cell_type": "markdown",
   "metadata": {},
   "source": [
    "### Bitwise operators\n",
    "\n",
    "Which works on the bits 010101110111 \n",
    "| - Bitwise OR operator\n",
    "& - Bitwise AND operator\n",
    "~ - Binary one's complement\n",
    "^ - bitwise XOR operation\n",
    "\n",
    "Below ones are normally not used much. Mostly for electronic related stuff\n",
    "<< - Binary Left shift operator\n",
    ">> - Binary right shift operator\n",
    "\n",
    "\n",
    "Truth table of OR. \n",
    "111 = 1\n",
    "110 = 1\n",
    "011 = 1\n",
    "010 = 1\n",
    "\n",
    "11110000 - Binary of 240\n",
    "00000001 - Binary of 1\n",
    "11110001 - if you convert this back to decimal - it will be 241\n",
    "\n",
    "for & \n",
    "1 & 1 = 1\n",
    "1 & 0 = 0\n",
    "0 & 1 = 0\n",
    "0 & 0 = 1\n",
    "\n",
    "11110000 - Binary of 240\n",
    "00000001 - Binary of 1\n",
    "00000000 - hence 0\n",
    "\n",
    "can consider 0 as false & 1 as true."
   ]
  },
  {
   "cell_type": "code",
   "execution_count": 44,
   "metadata": {},
   "outputs": [
    {
     "data": {
      "text/plain": [
       "241"
      ]
     },
     "execution_count": 44,
     "metadata": {},
     "output_type": "execute_result"
    }
   ],
   "source": [
    "a =240\n",
    "b = 1\n",
    "a|b"
   ]
  },
  {
   "cell_type": "code",
   "execution_count": 43,
   "metadata": {},
   "outputs": [
    {
     "data": {
      "text/plain": [
       "'0b11110000'"
      ]
     },
     "execution_count": 43,
     "metadata": {},
     "output_type": "execute_result"
    }
   ],
   "source": [
    "bin(240)"
   ]
  },
  {
   "cell_type": "code",
   "execution_count": 45,
   "metadata": {},
   "outputs": [
    {
     "data": {
      "text/plain": [
       "0"
      ]
     },
     "execution_count": 45,
     "metadata": {},
     "output_type": "execute_result"
    }
   ],
   "source": [
    "a & b"
   ]
  },
  {
   "cell_type": "markdown",
   "metadata": {},
   "source": [
    "### Logical operator\n",
    "\n",
    "And\n",
    "T and T = T\n",
    "T and F = F\n",
    "F and T = F\n",
    "F and F = F\n",
    "\n",
    "OR\n",
    "T OR T = T\n",
    "T OR F = F\n",
    "F OR T = F\n",
    "F OR F = F\n",
    "\n",
    "Not\n",
    "not T = F\n",
    "not F = T"
   ]
  },
  {
   "cell_type": "code",
   "execution_count": 46,
   "metadata": {},
   "outputs": [
    {
     "data": {
      "text/plain": [
       "True"
      ]
     },
     "execution_count": 46,
     "metadata": {},
     "output_type": "execute_result"
    }
   ],
   "source": [
    "a > 20 or 10>9"
   ]
  },
  {
   "cell_type": "code",
   "execution_count": 49,
   "metadata": {},
   "outputs": [
    {
     "data": {
      "text/plain": [
       "False"
      ]
     },
     "execution_count": 49,
     "metadata": {},
     "output_type": "execute_result"
    }
   ],
   "source": [
    "10 < 9 and 20>M #M is not defined but since 1s condition is satisfied, it does not check the 2nd condition"
   ]
  },
  {
   "cell_type": "code",
   "execution_count": 48,
   "metadata": {},
   "outputs": [
    {
     "ename": "NameError",
     "evalue": "name 'M' is not defined",
     "output_type": "error",
     "traceback": [
      "\u001b[1;31m---------------------------------------------------------------------------\u001b[0m",
      "\u001b[1;31mNameError\u001b[0m                                 Traceback (most recent call last)",
      "\u001b[1;32m<ipython-input-48-62a4efab274f>\u001b[0m in \u001b[0;36m<module>\u001b[1;34m\u001b[0m\n\u001b[1;32m----> 1\u001b[1;33m \u001b[1;36m10\u001b[0m \u001b[1;33m>\u001b[0m \u001b[1;36m9\u001b[0m \u001b[1;32mand\u001b[0m \u001b[1;36m20\u001b[0m\u001b[1;33m>\u001b[0m\u001b[0mM\u001b[0m\u001b[1;33m\u001b[0m\u001b[1;33m\u001b[0m\u001b[0m\n\u001b[0m",
      "\u001b[1;31mNameError\u001b[0m: name 'M' is not defined"
     ]
    }
   ],
   "source": [
    "10 > 9 and 20>M #both the condition are checked here & since M is not defined"
   ]
  },
  {
   "cell_type": "code",
   "execution_count": 50,
   "metadata": {},
   "outputs": [
    {
     "data": {
      "text/plain": [
       "True"
      ]
     },
     "execution_count": 50,
     "metadata": {},
     "output_type": "execute_result"
    }
   ],
   "source": [
    "not 10<9"
   ]
  },
  {
   "cell_type": "markdown",
   "metadata": {},
   "source": [
    "### Membership Operator\n",
    "\n",
    "in - Checks the membership of a variable in a given sequence\n",
    "not in - returns the inverted answer of in\n",
    "\n",
    "Both return either true or false"
   ]
  },
  {
   "cell_type": "code",
   "execution_count": 53,
   "metadata": {},
   "outputs": [
    {
     "data": {
      "text/plain": [
       "True"
      ]
     },
     "execution_count": 53,
     "metadata": {},
     "output_type": "execute_result"
    }
   ],
   "source": [
    "str = \"Python is a programing language\"\n",
    "\"a\" in str #checks if a is present in the string"
   ]
  },
  {
   "cell_type": "code",
   "execution_count": 52,
   "metadata": {},
   "outputs": [
    {
     "data": {
      "text/plain": [
       "False"
      ]
     },
     "execution_count": 52,
     "metadata": {},
     "output_type": "execute_result"
    }
   ],
   "source": [
    "\"z\" in str #checks if a is present in the string"
   ]
  },
  {
   "cell_type": "code",
   "execution_count": 55,
   "metadata": {},
   "outputs": [
    {
     "data": {
      "text/plain": [
       "True"
      ]
     },
     "execution_count": 55,
     "metadata": {},
     "output_type": "execute_result"
    }
   ],
   "source": [
    "\"z\" not in str"
   ]
  },
  {
   "cell_type": "markdown",
   "metadata": {},
   "source": [
    "### Identity operator\n",
    "\n",
    "is - Check if 2 variable refer to same memory location\n",
    "not is - returns the inverted answer\n",
    "\n",
    "both return either true or false"
   ]
  },
  {
   "cell_type": "code",
   "execution_count": 57,
   "metadata": {},
   "outputs": [
    {
     "data": {
      "text/plain": [
       "True"
      ]
     },
     "execution_count": 57,
     "metadata": {},
     "output_type": "execute_result"
    }
   ],
   "source": [
    "k=10\n",
    "f=10\n",
    "\n",
    "k==f #value is same"
   ]
  },
  {
   "cell_type": "code",
   "execution_count": 58,
   "metadata": {},
   "outputs": [
    {
     "data": {
      "text/plain": [
       "True"
      ]
     },
     "execution_count": 58,
     "metadata": {},
     "output_type": "execute_result"
    }
   ],
   "source": [
    "k is f #and they are also pointing to same memory location"
   ]
  },
  {
   "cell_type": "code",
   "execution_count": 59,
   "metadata": {},
   "outputs": [
    {
     "data": {
      "text/plain": [
       "140723887387760"
      ]
     },
     "execution_count": 59,
     "metadata": {},
     "output_type": "execute_result"
    }
   ],
   "source": [
    "id(k)"
   ]
  },
  {
   "cell_type": "code",
   "execution_count": 60,
   "metadata": {},
   "outputs": [
    {
     "data": {
      "text/plain": [
       "140723887387760"
      ]
     },
     "execution_count": 60,
     "metadata": {},
     "output_type": "execute_result"
    }
   ],
   "source": [
    "id(f) #prven both points to same memory location"
   ]
  },
  {
   "cell_type": "code",
   "execution_count": 61,
   "metadata": {},
   "outputs": [
    {
     "data": {
      "text/plain": [
       "True"
      ]
     },
     "execution_count": 61,
     "metadata": {},
     "output_type": "execute_result"
    }
   ],
   "source": [
    "x=1.5\n",
    "y=1.5\n",
    "\n",
    "x==y"
   ]
  },
  {
   "cell_type": "code",
   "execution_count": 62,
   "metadata": {},
   "outputs": [
    {
     "data": {
      "text/plain": [
       "False"
      ]
     },
     "execution_count": 62,
     "metadata": {},
     "output_type": "execute_result"
    }
   ],
   "source": [
    "x is y"
   ]
  },
  {
   "cell_type": "code",
   "execution_count": 64,
   "metadata": {},
   "outputs": [
    {
     "name": "stdout",
     "output_type": "stream",
     "text": [
      "2355050413008\n",
      "2355050413032\n"
     ]
    }
   ],
   "source": [
    "print(id(x)) #both have different memory location\n",
    "print(id(y))"
   ]
  },
  {
   "cell_type": "code",
   "execution_count": 65,
   "metadata": {},
   "outputs": [
    {
     "data": {
      "text/plain": [
       "True"
      ]
     },
     "execution_count": 65,
     "metadata": {},
     "output_type": "execute_result"
    }
   ],
   "source": [
    "# for integer case -5 to -256 have same memory. after that different memory location. This is a interveiew question\n",
    "\n",
    "v=257\n",
    "z=257\n",
    "\n",
    "v==z"
   ]
  },
  {
   "cell_type": "code",
   "execution_count": 66,
   "metadata": {},
   "outputs": [
    {
     "data": {
      "text/plain": [
       "False"
      ]
     },
     "execution_count": 66,
     "metadata": {},
     "output_type": "execute_result"
    }
   ],
   "source": [
    "v is z"
   ]
  },
  {
   "cell_type": "markdown",
   "metadata": {},
   "source": [
    "### Operator Precedence\n",
    "Consider in one expression you get multiple operators. then how to solve them?\n",
    "\n",
    "10+10/20*4 - what to sove?\n",
    "1st solve - 10/20*4 (Since both / & * have same precedence, go from left to right)\n",
    "then - 10+\n",
    "\n",
    "python 2 & python 3 will give different result (py3 gives 11.879 something & py2 gives 10)\n",
    "10/20*4 this is fishy\n",
    "\n",
    "As stated above - int/int in py3 gives float\n",
    "10/29 in python 3 is 0.34476575 something\n",
    "10/29 in py2 is 0\n",
    "\n",
    "** Refer the ppt - The once mentioned in the bottom of the table have more precedence as compared to above. consider bottom up approach when solving\n",
    "** Operators in the same box have same precendance\n",
    "**in case of same precedance - consider left to right aproach\n",
    "**Exponention, is from right to left 2**-1\n"
   ]
  },
  {
   "cell_type": "code",
   "execution_count": 67,
   "metadata": {},
   "outputs": [
    {
     "data": {
      "text/plain": [
       "False"
      ]
     },
     "execution_count": 67,
     "metadata": {},
     "output_type": "execute_result"
    }
   ],
   "source": [
    "10>8>9 #also means 10>8 and 8>9"
   ]
  },
  {
   "cell_type": "code",
   "execution_count": null,
   "metadata": {},
   "outputs": [],
   "source": []
  }
 ],
 "metadata": {
  "kernelspec": {
   "display_name": "Python 3",
   "language": "python",
   "name": "python3"
  },
  "language_info": {
   "codemirror_mode": {
    "name": "ipython",
    "version": 3
   },
   "file_extension": ".py",
   "mimetype": "text/x-python",
   "name": "python",
   "nbconvert_exporter": "python",
   "pygments_lexer": "ipython3",
   "version": "3.7.1"
  }
 },
 "nbformat": 4,
 "nbformat_minor": 2
}
