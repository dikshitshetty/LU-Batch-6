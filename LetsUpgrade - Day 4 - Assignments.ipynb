{
 "cells": [
  {
   "cell_type": "markdown",
   "metadata": {},
   "source": [
    "# Batch 6 - Day 4 - Assignments\n",
    "\n",
    "\n",
    "## Assignment 1\n",
    "\n",
    "+ Take any String, find all occurences of a substring in a given string\n",
    "\n",
    "Example:\n",
    "+ String --> What we think we become; we are python programmer. \n",
    "\n",
    "So find all occurences of \"we\"\n",
    "& Print the index value"
   ]
  },
  {
   "cell_type": "code",
   "execution_count": 18,
   "metadata": {},
   "outputs": [
    {
     "name": "stdout",
     "output_type": "stream",
     "text": [
      "There are 3 occurences of \"we\"\n",
      "The index value of all the occurences of \"we\" are:[5, 14, 25]\n"
     ]
    }
   ],
   "source": [
    "str1 = \"What we think we become; we are python programmer. \"\n",
    "b = str1.count(\"we\")\n",
    "print(f\"There are {b} occurences of \\\"we\\\"\")\n",
    "list1=[]\n",
    "for each in range(len(str1)):\n",
    "    if str1.startswith(\"we\",each): #Gives true or false value\n",
    "        list1.append(each)\n",
    "print(f\"The index value of all the occurences of \\\"we\\\" are:{list1}\")"
   ]
  },
  {
   "cell_type": "markdown",
   "metadata": {},
   "source": [
    "## Assignment 2\n",
    "\n",
    "+ use islower() --> All the characters in the Sentence should be lower\n",
    "+ & isupper() --> All the characters in the Sentence should be upper\n",
    "with any kind of string"
   ]
  },
  {
   "cell_type": "code",
   "execution_count": 32,
   "metadata": {},
   "outputs": [
    {
     "name": "stdout",
     "output_type": "stream",
     "text": [
      "False\n",
      "False\n"
     ]
    }
   ],
   "source": [
    "str2 = \"I am a boy\"\n",
    "print(str2.isupper())\n",
    "print(str2.islower())"
   ]
  },
  {
   "cell_type": "code",
   "execution_count": 31,
   "metadata": {},
   "outputs": [
    {
     "name": "stdout",
     "output_type": "stream",
     "text": [
      "False\n",
      "True\n"
     ]
    }
   ],
   "source": [
    "str3=\"i am a boy\"\n",
    "print(str3.isupper())\n",
    "print(str3.islower())"
   ]
  },
  {
   "cell_type": "code",
   "execution_count": 33,
   "metadata": {},
   "outputs": [
    {
     "name": "stdout",
     "output_type": "stream",
     "text": [
      "True\n",
      "False\n"
     ]
    }
   ],
   "source": [
    "str4=\"I AM A BOY\"\n",
    "print(str4.isupper())\n",
    "print(str4.islower())"
   ]
  }
 ],
 "metadata": {
  "kernelspec": {
   "display_name": "Python 3",
   "language": "python",
   "name": "python3"
  },
  "language_info": {
   "codemirror_mode": {
    "name": "ipython",
    "version": 3
   },
   "file_extension": ".py",
   "mimetype": "text/x-python",
   "name": "python",
   "nbconvert_exporter": "python",
   "pygments_lexer": "ipython3",
   "version": "3.7.1"
  }
 },
 "nbformat": 4,
 "nbformat_minor": 2
}
